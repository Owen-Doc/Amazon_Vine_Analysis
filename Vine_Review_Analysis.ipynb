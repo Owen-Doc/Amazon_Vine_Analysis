{
 "cells": [
  {
   "cell_type": "code",
   "execution_count": 1,
   "metadata": {
    "colab": {
     "base_uri": "https://localhost:8080/"
    },
    "id": "2rNhPrZrrU8k",
    "outputId": "b7114624-3453-49a6-aff7-aa6b3c84054b"
   },
   "outputs": [
    {
     "name": "stdout",
     "output_type": "stream",
     "text": [
      "\r",
      "0% [Working]\r",
      "            \r",
      "Hit:1 http://security.ubuntu.com/ubuntu bionic-security InRelease\n",
      "\r",
      "0% [Connecting to archive.ubuntu.com] [Connecting to cloud.r-project.org (13.24\r",
      "0% [1 InRelease gpgv 88.7 kB] [Connecting to archive.ubuntu.com] [Connecting to\r",
      "                                                                               \r",
      "Ign:2 https://developer.download.nvidia.com/compute/cuda/repos/ubuntu1804/x86_64  InRelease\n",
      "Ign:3 https://developer.download.nvidia.com/compute/machine-learning/repos/ubuntu1804/x86_64  InRelease\n",
      "Hit:4 https://developer.download.nvidia.com/compute/cuda/repos/ubuntu1804/x86_64  Release\n",
      "Hit:5 http://ppa.launchpad.net/c2d4u.team/c2d4u4.0+/ubuntu bionic InRelease\n",
      "Hit:6 https://developer.download.nvidia.com/compute/machine-learning/repos/ubuntu1804/x86_64  Release\n",
      "Hit:7 https://cloud.r-project.org/bin/linux/ubuntu bionic-cran40/ InRelease\n",
      "Hit:8 http://archive.ubuntu.com/ubuntu bionic InRelease\n",
      "Hit:9 http://ppa.launchpad.net/cran/libgit2/ubuntu bionic InRelease\n",
      "Hit:10 http://archive.ubuntu.com/ubuntu bionic-updates InRelease\n",
      "Hit:11 http://archive.ubuntu.com/ubuntu bionic-backports InRelease\n",
      "Hit:13 http://ppa.launchpad.net/deadsnakes/ppa/ubuntu bionic InRelease\n",
      "Hit:14 http://ppa.launchpad.net/graphics-drivers/ppa/ubuntu bionic InRelease\n",
      "Reading package lists... Done\n"
     ]
    }
   ],
   "source": [
    "import os\n",
    "# Find the latest version of spark 2.0  from http://www-us.apache.org/dist/spark/ and enter as the spark version\n",
    "# For example:\n",
    "# spark_version = 'spark-3.0.0'\n",
    "spark_version = 'spark-3.0.2'\n",
    "os.environ['SPARK_VERSION']=spark_version\n",
    "\n",
    "# Install Spark and Java\n",
    "!apt-get update\n",
    "!apt-get install openjdk-11-jdk-headless -qq > /dev/null\n",
    "!wget -q http://www-us.apache.org/dist/spark/$SPARK_VERSION/$SPARK_VERSION-bin-hadoop2.7.tgz\n",
    "!tar xf $SPARK_VERSION-bin-hadoop2.7.tgz\n",
    "!pip install -q findspark\n",
    "\n",
    "# Set Environment Variables\n",
    "import os\n",
    "os.environ[\"JAVA_HOME\"] = \"/usr/lib/jvm/java-11-openjdk-amd64\"\n",
    "os.environ[\"SPARK_HOME\"] = f\"/content/{spark_version}-bin-hadoop2.7\"\n",
    "\n",
    "# Start a SparkSession\n",
    "import findspark\n",
    "findspark.init()"
   ]
  },
  {
   "cell_type": "code",
   "execution_count": 2,
   "metadata": {
    "id": "rBNjUR93st51"
   },
   "outputs": [],
   "source": [
    "from pyspark.sql import SparkSession\n",
    "spark = SparkSession.builder.appName(\"BigData-Challenge\").config(\"spark.driver.extraClassPath\",\"/content/postgresql-42.2.16.jar\").getOrCreate()"
   ]
  },
  {
   "cell_type": "code",
   "execution_count": 10,
   "metadata": {
    "id": "4ZxNHdVdxb5P"
   },
   "outputs": [],
   "source": []
  },
  {
   "cell_type": "code",
   "execution_count": 11,
   "metadata": {
    "id": "hWlRQ5_NxwGd"
   },
   "outputs": [],
   "source": []
  },
  {
   "cell_type": "code",
   "execution_count": null,
   "metadata": {
    "id": "oP9FoVrqxdTE"
   },
   "outputs": [],
   "source": []
  },
  {
   "cell_type": "code",
   "execution_count": 13,
   "metadata": {
    "colab": {
     "base_uri": "https://localhost:8080/"
    },
    "id": "KeLXOVHhst8l",
    "outputId": "68a37f92-3d7e-4e0b-d9cc-6202f27a324d"
   },
   "outputs": [
    {
     "name": "stdout",
     "output_type": "stream",
     "text": [
      "+-----------+-----------+--------------+----------+--------------+--------------------+-------------------+-----------+-------------+-----------+----+-----------------+--------------------+--------------------+-----------+\n",
      "|marketplace|customer_id|     review_id|product_id|product_parent|       product_title|   product_category|star_rating|helpful_votes|total_votes|vine|verified_purchase|     review_headline|         review_body|review_date|\n",
      "+-----------+-----------+--------------+----------+--------------+--------------------+-------------------+-----------+-------------+-----------+----+-----------------+--------------------+--------------------+-----------+\n",
      "|         US|   45610553| RMDCHWD0Y5OZ9|B00HH62VB6|     618218723|AGPtek® 10 Isolat...|Musical Instruments|          3|            0|          1|   N|                N|         Three Stars|Works very good, ...| 2015-08-31|\n",
      "|         US|   14640079| RZSL0BALIYUNU|B003LRN53I|     986692292|Sennheiser HD203 ...|Musical Instruments|          5|            0|          0|   N|                Y|          Five Stars|Nice headphones a...| 2015-08-31|\n",
      "|         US|    6111003| RIZR67JKUDBI0|B0006VMBHI|     603261968|AudioQuest LP rec...|Musical Instruments|          3|            0|          1|   N|                Y|         Three Stars|removes dust. doe...| 2015-08-31|\n",
      "|         US|    1546619|R27HL570VNL85F|B002B55TRG|     575084461|Hohner Inc. 560BX...|Musical Instruments|          5|            0|          0|   N|                Y|I purchase these ...|I purchase these ...| 2015-08-31|\n",
      "|         US|   12222213|R34EBU9QDWJ1GD|B00N1YPXW2|     165236328|Blue Yeti USB Mic...|Musical Instruments|          5|            0|          0|   N|                Y|          Five Stars|This is an awesom...| 2015-08-31|\n",
      "|         US|   46018513|R1WCUI4Z1SIQEO|B001N4GRGS|     134151483|Middle Atlantic P...|Musical Instruments|          5|            0|          0|   N|                N|          Five Stars|Used to cool equi...| 2015-08-31|\n",
      "|         US|   10225065| RL5LNO26GAVJ1|B009PJRMHQ|     694166585|Kmise 1pc Pickgua...|Musical Instruments|          2|            3|          4|   N|                Y|Will not Fit Epip...|Note- Does not Fi...| 2015-08-31|\n",
      "|         US|    6356995|R3GYQ5W8JHP8SB|B00NKBDAZS|     446431775|Kealoha Concert U...|Musical Instruments|          5|            0|          0|   N|                Y|          Five Stars|Well built Ukulel...| 2015-08-31|\n",
      "|         US|   35297198|R30SHYQXGG5EYC|B006MIU7U2|     125871705|Halco 80000 - MR1...|Musical Instruments|          5|            0|          0|   N|                Y|Works fine. Hope ...|Had to replace a ...| 2015-08-31|\n",
      "|         US|   32139520|R14YLXA56NP51I|B000FIBD0I|     771888534|Gator GPTBLACK Pl...|Musical Instruments|          5|            1|          1|   N|                N|I upgraded the po...|I've owned multip...| 2015-08-31|\n",
      "|         US|   36060782|R1ZH0HSH38IOTZ|B0002E52GG|      68535945|Hetman 1 - Light ...|Musical Instruments|          5|            0|          0|   N|                Y|My son's favourit...|Consistent qualit...| 2015-08-31|\n",
      "|         US|    5301309|R3H53KLLC210XI|B00RZIH52G|     725541773|Dragonpad pop fil...|Musical Instruments|          4|            0|          0|   N|                Y|Great pop filter ...|by far the best p...| 2015-08-31|\n",
      "|         US|   37472935|R3OOR877NGA8JK|B001792BAU|      46570323|DharmaObjects Rel...|Musical Instruments|          3|            0|          0|   N|                Y|                  Ok|Beautiful set. On...| 2015-08-31|\n",
      "|         US|   33578270|R1BY7WKOZ3KMH0|B009GSKW1Y|     547963417|Musiclily SSS Pla...|Musical Instruments|          2|            0|          0|   N|                Y|           Two Stars|Bridge pickup was...| 2015-08-31|\n",
      "|         US|   22070226| RXP1TFSWE8EG9|B0002F4TKA|     436074323|Vic Firth America...|Musical Instruments|          5|            0|          0|   N|                Y|          Five Stars|Feels good and la...| 2015-08-31|\n",
      "|         US|   52862655|R3J44DPP12OTLJ|B00K17YFBW|      81933093|Guitar Stand for ...|Musical Instruments|          5|            0|          0|   N|                Y|Great stand... on...|I love the stand....| 2015-08-31|\n",
      "|         US|    4427243| RFOV69SK0T676|B00EQ24HJS|     669249276|Generic 3PLY Faux...|Musical Instruments|          5|            0|          0|   N|                Y|Looks great. You ...|On time. Looks gr...| 2015-08-31|\n",
      "|         US|   14108571|R2HUWDNW62FOL3|B00IBOYTUE|     749537231|Audio 2000 6525 3...|Musical Instruments|          1|            0|          0|   N|                Y|  Poor sound quality|I was hoping it w...| 2015-08-31|\n",
      "|         US|   27314089|R1KSU30XZGR452|B00FBRUSAE|     792472601|Sawtooth ST-AMP-1...|Musical Instruments|          5|            0|          0|   N|                Y|Perfect for the b...|Good sound for it...| 2015-08-31|\n",
      "|         US|   16735445|R2TZVLLTSHA07N|B0113D2QUO|     269114019|Upado Unlimited G...|Musical Instruments|          5|            1|          1|   N|                Y|It really is a mu...|Wow! I didn't exp...| 2015-08-31|\n",
      "+-----------+-----------+--------------+----------+--------------+--------------------+-------------------+-----------+-------------+-----------+----+-----------------+--------------------+--------------------+-----------+\n",
      "only showing top 20 rows\n",
      "\n"
     ]
    }
   ],
   "source": [
    "from pyspark import SparkFiles\n",
    "url = \"https://s3.amazonaws.com/amazon-reviews-pds/tsv/amazon_reviews_us_Musical_Instruments_v1_00.tsv.gz\"\n",
    "spark.sparkContext.addFile(url)\n",
    "df = spark.read.option(\"encoding\", \"UTF-8\").csv(SparkFiles.get(\"\"), sep=\"\\t\", header=True, inferSchema=True)\n",
    "df.show()"
   ]
  },
  {
   "cell_type": "code",
   "execution_count": 14,
   "metadata": {
    "colab": {
     "base_uri": "https://localhost:8080/"
    },
    "id": "2JBjEbi5st_Y",
    "outputId": "5cbf7dc5-eeee-42f6-abb9-455ddae3a84d"
   },
   "outputs": [
    {
     "name": "stdout",
     "output_type": "stream",
     "text": [
      "+--------------+-----------+-------------+-----------+----+-----------------+\n",
      "|     review_id|star_rating|helpful_votes|total_votes|vine|verified_purchase|\n",
      "+--------------+-----------+-------------+-----------+----+-----------------+\n",
      "| RMDCHWD0Y5OZ9|          3|            0|          1|   N|                N|\n",
      "| RZSL0BALIYUNU|          5|            0|          0|   N|                Y|\n",
      "| RIZR67JKUDBI0|          3|            0|          1|   N|                Y|\n",
      "|R27HL570VNL85F|          5|            0|          0|   N|                Y|\n",
      "|R34EBU9QDWJ1GD|          5|            0|          0|   N|                Y|\n",
      "|R1WCUI4Z1SIQEO|          5|            0|          0|   N|                N|\n",
      "| RL5LNO26GAVJ1|          2|            3|          4|   N|                Y|\n",
      "|R3GYQ5W8JHP8SB|          5|            0|          0|   N|                Y|\n",
      "|R30SHYQXGG5EYC|          5|            0|          0|   N|                Y|\n",
      "|R14YLXA56NP51I|          5|            1|          1|   N|                N|\n",
      "|R1ZH0HSH38IOTZ|          5|            0|          0|   N|                Y|\n",
      "|R3H53KLLC210XI|          4|            0|          0|   N|                Y|\n",
      "|R3OOR877NGA8JK|          3|            0|          0|   N|                Y|\n",
      "|R1BY7WKOZ3KMH0|          2|            0|          0|   N|                Y|\n",
      "| RXP1TFSWE8EG9|          5|            0|          0|   N|                Y|\n",
      "|R3J44DPP12OTLJ|          5|            0|          0|   N|                Y|\n",
      "| RFOV69SK0T676|          5|            0|          0|   N|                Y|\n",
      "|R2HUWDNW62FOL3|          1|            0|          0|   N|                Y|\n",
      "|R1KSU30XZGR452|          5|            0|          0|   N|                Y|\n",
      "|R2TZVLLTSHA07N|          5|            1|          1|   N|                Y|\n",
      "+--------------+-----------+-------------+-----------+----+-----------------+\n",
      "only showing top 20 rows\n",
      "\n"
     ]
    }
   ],
   "source": [
    "# Create the vine_table. DataFrame\n",
    "vine_df = df.select(['review_id', 'star_rating', 'helpful_votes', 'total_votes', 'vine', 'verified_purchase'])\n",
    "vine_df.show()"
   ]
  },
  {
   "cell_type": "code",
   "execution_count": 16,
   "metadata": {
    "id": "pc7FMCxpuxcU"
   },
   "outputs": [],
   "source": [
    "# Convert columns to integer for calculations\n",
    "#from pyspark.sql.types import IntegerType\n",
    "#vine_df = vine_df.withColumn(\"star_rating\", vine_df[\"star_rating\"].cast(IntegerType()))\n",
    "#vine_df = vine_df.withColumn(\"helpful_votes\", vine_df[\"helpful_votes\"].cast(IntegerType()))\n",
    "#vine_df = vine_df.withColumn(\"total_votes\", vine_df[\"total_votes\"].cast(IntegerType()))"
   ]
  },
  {
   "cell_type": "code",
   "execution_count": 17,
   "metadata": {
    "colab": {
     "base_uri": "https://localhost:8080/"
    },
    "id": "x-J0YxeHsury",
    "outputId": "9c798df1-1f3c-4de8-f01a-05243b79eb44"
   },
   "outputs": [
    {
     "name": "stdout",
     "output_type": "stream",
     "text": [
      "+--------------+-----------+-------------+-----------+----+-----------------+\n",
      "|     review_id|star_rating|helpful_votes|total_votes|vine|verified_purchase|\n",
      "+--------------+-----------+-------------+-----------+----+-----------------+\n",
      "|R2243Y3OD8U6KQ|          5|           47|         61|   N|                N|\n",
      "|R2TGT0CDTCAAHW|          5|           21|         23|   N|                Y|\n",
      "| RX4D22YSXEF4P|          1|           37|         38|   N|                Y|\n",
      "|R3FL2NTLFUSPTQ|          5|           33|         37|   N|                N|\n",
      "|R3QTP3YNZXAPPF|          3|           23|         24|   N|                Y|\n",
      "|R36V6V42VN5AS5|          5|           34|         37|   N|                Y|\n",
      "|R27LZWE27BJPOB|          5|           22|         23|   N|                N|\n",
      "|  RMRD6SMF2AUQ|          3|            4|         21|   N|                N|\n",
      "| RMPCXKWX3T57Y|          1|            1|         73|   N|                N|\n",
      "|R1P7GJ0IN2BRNH|          5|           37|         37|   N|                Y|\n",
      "|R2R6JPF9KOD2HJ|          5|           19|         20|   N|                Y|\n",
      "|R3JM8Z4SP9N3H2|          1|            4|         23|   N|                N|\n",
      "|R2J0ZZGFXKM8KR|          2|           21|         22|   N|                Y|\n",
      "|R238ZSG6TSUBNX|          5|           27|         27|   N|                Y|\n",
      "|R37WGVXA94D62S|          2|            4|         20|   N|                Y|\n",
      "| RC6Y8GYIQZ8YU|          3|           72|         85|   N|                Y|\n",
      "| RFL3TJED8C240|          5|           13|         24|   N|                N|\n",
      "|R3D4P7A8Q1C70F|          5|           22|         27|   N|                Y|\n",
      "|R3PRNAQVQBB9M6|          1|           21|         30|   N|                Y|\n",
      "|R2NTTIW5KBKLYG|          5|           19|         20|   N|                N|\n",
      "+--------------+-----------+-------------+-----------+----+-----------------+\n",
      "only showing top 20 rows\n",
      "\n"
     ]
    }
   ],
   "source": [
    "# Filter vine_df where total_votes count is >= 20\n",
    "vine_df_over_20_total_votes = vine_df.filter(\"total_votes>=20\")\n",
    "vine_df_over_20_total_votes.show()"
   ]
  },
  {
   "cell_type": "code",
   "execution_count": 21,
   "metadata": {
    "colab": {
     "base_uri": "https://localhost:8080/"
    },
    "id": "UCmOZUwn2Pxw",
    "outputId": "0acecf6a-acb2-47aa-dec2-65fa8fbf0325"
   },
   "outputs": [
    {
     "name": "stdout",
     "output_type": "stream",
     "text": [
      "root\n",
      " |-- review_id: string (nullable = true)\n",
      " |-- star_rating: integer (nullable = true)\n",
      " |-- helpful_votes: integer (nullable = true)\n",
      " |-- total_votes: integer (nullable = true)\n",
      " |-- vine: string (nullable = true)\n",
      " |-- verified_purchase: string (nullable = true)\n",
      "\n"
     ]
    }
   ],
   "source": [
    "vine_df_over_20_total_votes.printSchema()"
   ]
  },
  {
   "cell_type": "code",
   "execution_count": 18,
   "metadata": {
    "colab": {
     "base_uri": "https://localhost:8080/"
    },
    "id": "yU5Y0Lzj0pnU",
    "outputId": "20cb1c32-b0c5-4d1a-dd42-2e14cf9e8d38"
   },
   "outputs": [
    {
     "name": "stdout",
     "output_type": "stream",
     "text": [
      "+--------------+-----------+-------------+-----------+----+-----------------+\n",
      "|     review_id|star_rating|helpful_votes|total_votes|vine|verified_purchase|\n",
      "+--------------+-----------+-------------+-----------+----+-----------------+\n",
      "|R2243Y3OD8U6KQ|          5|           47|         61|   N|                N|\n",
      "|R2TGT0CDTCAAHW|          5|           21|         23|   N|                Y|\n",
      "| RX4D22YSXEF4P|          1|           37|         38|   N|                Y|\n",
      "|R3FL2NTLFUSPTQ|          5|           33|         37|   N|                N|\n",
      "|R3QTP3YNZXAPPF|          3|           23|         24|   N|                Y|\n",
      "|R36V6V42VN5AS5|          5|           34|         37|   N|                Y|\n",
      "|R27LZWE27BJPOB|          5|           22|         23|   N|                N|\n",
      "|R1P7GJ0IN2BRNH|          5|           37|         37|   N|                Y|\n",
      "|R2R6JPF9KOD2HJ|          5|           19|         20|   N|                Y|\n",
      "|R2J0ZZGFXKM8KR|          2|           21|         22|   N|                Y|\n",
      "|R238ZSG6TSUBNX|          5|           27|         27|   N|                Y|\n",
      "| RC6Y8GYIQZ8YU|          3|           72|         85|   N|                Y|\n",
      "| RFL3TJED8C240|          5|           13|         24|   N|                N|\n",
      "|R3D4P7A8Q1C70F|          5|           22|         27|   N|                Y|\n",
      "|R3PRNAQVQBB9M6|          1|           21|         30|   N|                Y|\n",
      "|R2NTTIW5KBKLYG|          5|           19|         20|   N|                N|\n",
      "|R3JNDLZ3KACRLG|          5|           29|         33|   N|                N|\n",
      "|R1PVVYYY0Q1HZ0|          5|           21|         21|   N|                Y|\n",
      "|R1R9RU7JW0MFR2|          4|           20|         23|   Y|                N|\n",
      "|R1G9N0CW2982PA|          5|           21|         24|   N|                Y|\n",
      "+--------------+-----------+-------------+-----------+----+-----------------+\n",
      "only showing top 20 rows\n",
      "\n"
     ]
    }
   ],
   "source": [
    "# Filter the new df and create a new df to retrieve all the rows where the number of helpful votes divided by total_votes is >= .5\n",
    "helpful_div_total_df = vine_df_over_20_total_votes.filter('helpful_votes/total_votes>=.5')\n",
    "helpful_div_total_df.show()"
   ]
  },
  {
   "cell_type": "code",
   "execution_count": null,
   "metadata": {
    "id": "Ikb6iu_c3MVI"
   },
   "outputs": [],
   "source": [
    "#df.filter(df.state == \"OH\").show(truncate=False)\n",
    "# Source: https://sparkbyexamples.com/pyspark/pyspark-where-filter/"
   ]
  },
  {
   "cell_type": "code",
   "execution_count": 25,
   "metadata": {
    "colab": {
     "base_uri": "https://localhost:8080/"
    },
    "id": "4Ez0Kwoksut4",
    "outputId": "cb81c1c0-4305-4e85-da0e-03160c0e7f8d"
   },
   "outputs": [
    {
     "name": "stdout",
     "output_type": "stream",
     "text": [
      "+--------------+-----------+-------------+-----------+----+-----------------+\n",
      "|     review_id|star_rating|helpful_votes|total_votes|vine|verified_purchase|\n",
      "+--------------+-----------+-------------+-----------+----+-----------------+\n",
      "|R1R9RU7JW0MFR2|          4|           20|         23|   Y|                N|\n",
      "|R19EFYNN3W8Q07|          5|           26|         32|   Y|                N|\n",
      "|R34DJ1R8AEU0SG|          5|           29|         35|   Y|                N|\n",
      "|R25P5CXK5L9RHF|          5|          146|        161|   Y|                N|\n",
      "|R2E9VZB3I4LSN5|          5|           55|         59|   Y|                N|\n",
      "| RKYLHZL7EPELX|          4|           19|         25|   Y|                N|\n",
      "|R1U13EKGQD3ZE6|          5|           22|         25|   Y|                N|\n",
      "| RYW05F1MUEF01|          5|           87|        102|   Y|                N|\n",
      "|R2SW4NXNO7HZJ5|          4|           28|         33|   Y|                N|\n",
      "|R2016NFLSUR97Y|          2|           26|         37|   Y|                N|\n",
      "| RFCV9QXJ3D79X|          3|           20|         22|   Y|                N|\n",
      "|R36779ZAY4ZT0Y|          3|           46|         50|   Y|                N|\n",
      "|R13PPTBWWV10Q6|          5|           19|         25|   Y|                N|\n",
      "|R2A3FFNJTDUBMV|          5|           20|         27|   Y|                N|\n",
      "|R3QQG4HUB214TM|          5|          111|        128|   Y|                N|\n",
      "|R3J9OSJNJB7KGM|          5|           70|         80|   Y|                N|\n",
      "| RIMYDUAAFXY2U|          5|           22|         23|   Y|                N|\n",
      "|R22CYBPLKWDK6F|          5|           47|         54|   Y|                N|\n",
      "|R1ETBDZ1LJ8CEL|          4|           28|         32|   Y|                N|\n",
      "|R28T5ISQ8AA7E5|          5|           40|         42|   Y|                N|\n",
      "+--------------+-----------+-------------+-----------+----+-----------------+\n",
      "only showing top 20 rows\n",
      "\n"
     ]
    }
   ],
   "source": [
    "filtered_paid_reviews_df = helpful_div_total_df.filter(helpful_div_total_df.vine == 'Y')\n",
    "filtered_paid_reviews_df.show()"
   ]
  },
  {
   "cell_type": "code",
   "execution_count": 26,
   "metadata": {
    "colab": {
     "base_uri": "https://localhost:8080/"
    },
    "id": "KnuBztNt3iAl",
    "outputId": "10d199a7-ced3-430f-924a-f656455d8d8d"
   },
   "outputs": [
    {
     "name": "stdout",
     "output_type": "stream",
     "text": [
      "+--------------+-----------+-------------+-----------+----+-----------------+\n",
      "|     review_id|star_rating|helpful_votes|total_votes|vine|verified_purchase|\n",
      "+--------------+-----------+-------------+-----------+----+-----------------+\n",
      "|R2243Y3OD8U6KQ|          5|           47|         61|   N|                N|\n",
      "|R2TGT0CDTCAAHW|          5|           21|         23|   N|                Y|\n",
      "| RX4D22YSXEF4P|          1|           37|         38|   N|                Y|\n",
      "|R3FL2NTLFUSPTQ|          5|           33|         37|   N|                N|\n",
      "|R3QTP3YNZXAPPF|          3|           23|         24|   N|                Y|\n",
      "|R36V6V42VN5AS5|          5|           34|         37|   N|                Y|\n",
      "|R27LZWE27BJPOB|          5|           22|         23|   N|                N|\n",
      "|R1P7GJ0IN2BRNH|          5|           37|         37|   N|                Y|\n",
      "|R2R6JPF9KOD2HJ|          5|           19|         20|   N|                Y|\n",
      "|R2J0ZZGFXKM8KR|          2|           21|         22|   N|                Y|\n",
      "|R238ZSG6TSUBNX|          5|           27|         27|   N|                Y|\n",
      "| RC6Y8GYIQZ8YU|          3|           72|         85|   N|                Y|\n",
      "| RFL3TJED8C240|          5|           13|         24|   N|                N|\n",
      "|R3D4P7A8Q1C70F|          5|           22|         27|   N|                Y|\n",
      "|R3PRNAQVQBB9M6|          1|           21|         30|   N|                Y|\n",
      "|R2NTTIW5KBKLYG|          5|           19|         20|   N|                N|\n",
      "|R3JNDLZ3KACRLG|          5|           29|         33|   N|                N|\n",
      "|R1PVVYYY0Q1HZ0|          5|           21|         21|   N|                Y|\n",
      "|R1G9N0CW2982PA|          5|           21|         24|   N|                Y|\n",
      "|R2N8ZFHQBWHMDL|          2|           26|         28|   N|                Y|\n",
      "+--------------+-----------+-------------+-----------+----+-----------------+\n",
      "only showing top 20 rows\n",
      "\n"
     ]
    }
   ],
   "source": [
    "filtered_unpaid_reviews_df = helpful_div_total_df.filter(helpful_div_total_df.vine == 'N')\n",
    "filtered_unpaid_reviews_df.show()"
   ]
  },
  {
   "cell_type": "code",
   "execution_count": 40,
   "metadata": {
    "colab": {
     "base_uri": "https://localhost:8080/"
    },
    "id": "Q6fyUrt280GC",
    "outputId": "4ad05328-c08f-49dd-c91b-23b4da3bf6d7"
   },
   "outputs": [
    {
     "data": {
      "text/plain": [
       "14477"
      ]
     },
     "execution_count": 40,
     "metadata": {
      "tags": []
     },
     "output_type": "execute_result"
    }
   ],
   "source": [
    "# Determine number of unpaid reviews\n",
    "num_unpaid_reviews_filtered = filtered_unpaid_reviews_df.count()\n",
    "num_unpaid_reviews_filtered"
   ]
  },
  {
   "cell_type": "code",
   "execution_count": 28,
   "metadata": {
    "id": "JzRTG7qe4C_1"
   },
   "outputs": [],
   "source": [
    "from pyspark.sql.functions import col,when,count\n"
   ]
  },
  {
   "cell_type": "code",
   "execution_count": 41,
   "metadata": {
    "colab": {
     "base_uri": "https://localhost:8080/"
    },
    "id": "o1kQ3DiC8Ia-",
    "outputId": "a570ca10-0f50-42e5-f4fe-0d483039476d"
   },
   "outputs": [
    {
     "data": {
      "text/plain": [
       "8212"
      ]
     },
     "execution_count": 41,
     "metadata": {
      "tags": []
     },
     "output_type": "execute_result"
    }
   ],
   "source": [
    "# Determine number of unpaid five star reviews\n",
    "unpaid_five_star_review_df = filtered_unpaid_reviews_df.filter(filtered_unpaid_reviews_df.star_rating == 5)\n",
    "unpaid_num_five_star_reviews = unpaid_five_star_review_df.count()\n",
    "unpaid_num_five_star_reviews"
   ]
  },
  {
   "cell_type": "code",
   "execution_count": 43,
   "metadata": {
    "colab": {
     "base_uri": "https://localhost:8080/"
    },
    "id": "xIotzBwf9WC8",
    "outputId": "4182241a-7176-4cc9-9aec-c6eaeb462556"
   },
   "outputs": [
    {
     "data": {
      "text/plain": [
       "56.72445948746287"
      ]
     },
     "execution_count": 43,
     "metadata": {
      "tags": []
     },
     "output_type": "execute_result"
    }
   ],
   "source": [
    "unpaid_percentage_five_star_reviews = unpaid_num_five_star_reviews / num_unpaid_reviews_filtered * 100\n",
    "unpaid_percentage_five_star_reviews"
   ]
  },
  {
   "cell_type": "code",
   "execution_count": 44,
   "metadata": {
    "colab": {
     "base_uri": "https://localhost:8080/"
    },
    "id": "yRG3ZLDz4DCa",
    "outputId": "c6d3018e-ddca-4ec8-eb6a-60ca679499b4"
   },
   "outputs": [
    {
     "data": {
      "text/plain": [
       "60"
      ]
     },
     "execution_count": 44,
     "metadata": {
      "tags": []
     },
     "output_type": "execute_result"
    }
   ],
   "source": [
    "num_paid_reviews = filtered_paid_reviews_df.count()\n",
    "num_paid_reviews"
   ]
  },
  {
   "cell_type": "code",
   "execution_count": 45,
   "metadata": {
    "colab": {
     "base_uri": "https://localhost:8080/"
    },
    "id": "PLoSDSvD4DE_",
    "outputId": "c8938223-dafc-4531-eb19-b064e7a3be05"
   },
   "outputs": [
    {
     "name": "stdout",
     "output_type": "stream",
     "text": [
      "+--------------+-----------+-------------+-----------+----+-----------------+\n",
      "|     review_id|star_rating|helpful_votes|total_votes|vine|verified_purchase|\n",
      "+--------------+-----------+-------------+-----------+----+-----------------+\n",
      "|R19EFYNN3W8Q07|          5|           26|         32|   Y|                N|\n",
      "|R34DJ1R8AEU0SG|          5|           29|         35|   Y|                N|\n",
      "|R25P5CXK5L9RHF|          5|          146|        161|   Y|                N|\n",
      "|R2E9VZB3I4LSN5|          5|           55|         59|   Y|                N|\n",
      "|R1U13EKGQD3ZE6|          5|           22|         25|   Y|                N|\n",
      "| RYW05F1MUEF01|          5|           87|        102|   Y|                N|\n",
      "|R13PPTBWWV10Q6|          5|           19|         25|   Y|                N|\n",
      "|R2A3FFNJTDUBMV|          5|           20|         27|   Y|                N|\n",
      "|R3QQG4HUB214TM|          5|          111|        128|   Y|                N|\n",
      "|R3J9OSJNJB7KGM|          5|           70|         80|   Y|                N|\n",
      "| RIMYDUAAFXY2U|          5|           22|         23|   Y|                N|\n",
      "|R22CYBPLKWDK6F|          5|           47|         54|   Y|                N|\n",
      "|R28T5ISQ8AA7E5|          5|           40|         42|   Y|                N|\n",
      "|R1OIXASHDMAU84|          5|           35|         40|   Y|                N|\n",
      "|R30FS6HFPQ1WKT|          5|           41|         44|   Y|                N|\n",
      "| R4KIRC319GP61|          5|           19|         23|   Y|                N|\n",
      "|R1UZW5KV87WUA1|          5|           26|         30|   Y|                N|\n",
      "|R394FJYWZ0GNFG|          5|           40|         43|   Y|                N|\n",
      "|R3QE0Q8R65G2M9|          5|           52|         56|   Y|                N|\n",
      "| RARYFB85E8YSK|          5|           25|         31|   Y|                N|\n",
      "+--------------+-----------+-------------+-----------+----+-----------------+\n",
      "only showing top 20 rows\n",
      "\n"
     ]
    }
   ],
   "source": [
    "paid_five_star_review_df = filtered_paid_reviews_df.filter(filtered_paid_reviews_df.star_rating == 5)\n",
    "paid_five_star_review_df.show()"
   ]
  },
  {
   "cell_type": "code",
   "execution_count": 47,
   "metadata": {
    "colab": {
     "base_uri": "https://localhost:8080/"
    },
    "id": "1QXDy8pP4DIw",
    "outputId": "c571e77b-b60f-45f4-c302-beed25db16df"
   },
   "outputs": [
    {
     "data": {
      "text/plain": [
       "34"
      ]
     },
     "execution_count": 47,
     "metadata": {
      "tags": []
     },
     "output_type": "execute_result"
    }
   ],
   "source": [
    "num_five_star_paid_reviews = paid_five_star_review_df.count()\n",
    "num_five_star_paid_reviews"
   ]
  },
  {
   "cell_type": "code",
   "execution_count": 48,
   "metadata": {
    "colab": {
     "base_uri": "https://localhost:8080/"
    },
    "id": "8WJtPITD__YW",
    "outputId": "3541e340-a43d-4fea-ea3e-500fc5610680"
   },
   "outputs": [
    {
     "data": {
      "text/plain": [
       "56.666666666666664"
      ]
     },
     "execution_count": 48,
     "metadata": {
      "tags": []
     },
     "output_type": "execute_result"
    }
   ],
   "source": [
    "paid_percentage_five_star_reviews = num_five_star_paid_reviews / num_paid_reviews * 100\n",
    "paid_percentage_five_star_reviews"
   ]
  },
  {
   "cell_type": "code",
   "execution_count": 51,
   "metadata": {
    "colab": {
     "base_uri": "https://localhost:8080/"
    },
    "id": "3FeiBhGgAZtD",
    "outputId": "89eaf9f7-3edf-4387-96c3-89b11491622e"
   },
   "outputs": [
    {
     "name": "stdout",
     "output_type": "stream",
     "text": [
      "+----------------+------+-----+\n",
      "|            Type|Unpaid| Paid|\n",
      "+----------------+------+-----+\n",
      "|# 5 Star Reviews|  8212|   34|\n",
      "|       # Reviews| 14477|   60|\n",
      "|% 5 Star Reviews| 56.72|56.66|\n",
      "+----------------+------+-----+\n",
      "\n"
     ]
    }
   ],
   "source": [
    "# Simplified, static summary table of results\n",
    "cols = ['Type', 'Unpaid', 'Paid']\n",
    "rows = [\n",
    "        ('# 5 Star Reviews', '8212', '34'),\n",
    "        ('# Reviews', '14477', '60'),\n",
    "        ('% 5 Star Reviews', '56.72', '56.66')\n",
    "]\n",
    "summary_df = spark.createDataFrame(data=rows, schema=cols)\n",
    "summary_df.show()"
   ]
  }
 ],
 "metadata": {
  "colab": {
   "collapsed_sections": [],
   "name": "Vine_Review_Analysis.ipynb",
   "provenance": []
  },
  "kernelspec": {
   "display_name": "Python 3",
   "language": "python",
   "name": "python3"
  },
  "language_info": {
   "codemirror_mode": {
    "name": "ipython",
    "version": 3
   },
   "file_extension": ".py",
   "mimetype": "text/x-python",
   "name": "python",
   "nbconvert_exporter": "python",
   "pygments_lexer": "ipython3",
   "version": "3.8.10"
  }
 },
 "nbformat": 4,
 "nbformat_minor": 1
}
